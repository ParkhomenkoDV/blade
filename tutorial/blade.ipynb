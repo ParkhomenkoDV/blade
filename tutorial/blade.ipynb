{
 "cells": [
  {
   "cell_type": "code",
   "execution_count": 1,
   "metadata": {},
   "outputs": [],
   "source": [
    "from numpy import array"
   ]
  },
  {
   "cell_type": "code",
   "execution_count": 2,
   "metadata": {},
   "outputs": [
    {
     "name": "stdout",
     "output_type": "stream",
     "text": [
      "Collecting git+https://github.com/ParkhomenkoDV/airfoil.git\n",
      "  Cloning https://github.com/ParkhomenkoDV/airfoil.git to c:\\users\\parkh\\appdata\\local\\temp\\pip-req-build-_m9aejfw\n",
      "  Resolved https://github.com/ParkhomenkoDV/airfoil.git to commit 34e5ed198e134dfeeed83423b86d36f23025998d\n",
      "  Preparing metadata (setup.py): started\n",
      "  Preparing metadata (setup.py): finished with status 'done'\n",
      "Collecting decorators@ git+https://github.com/ParkhomenkoDV/decorators.git@master (from airfoil==2024.9.30.12.20.12)\n",
      "  Cloning https://github.com/ParkhomenkoDV/decorators.git (to revision master) to c:\\users\\parkh\\appdata\\local\\temp\\pip-install-1yvkj2z1\\decorators_867b0f258c944ce881d8cbec41c6d39b\n",
      "  Resolved https://github.com/ParkhomenkoDV/decorators.git to commit defaf0bd8ca5d03f3e7bcb574426029427ae1e12\n",
      "  Preparing metadata (setup.py): started\n",
      "  Preparing metadata (setup.py): finished with status 'done'\n",
      "Collecting mathematics@ git+https://github.com/ParkhomenkoDV/mathematics.git@master (from airfoil==2024.9.30.12.20.12)\n",
      "  Cloning https://github.com/ParkhomenkoDV/mathematics.git (to revision master) to c:\\users\\parkh\\appdata\\local\\temp\\pip-install-1yvkj2z1\\mathematics_6141c743d15c4a9da96bedad425d4415\n",
      "  Resolved https://github.com/ParkhomenkoDV/mathematics.git to commit 8e825e6f68ea7f82af71e3c67bed24907c9fdc5a\n",
      "  Preparing metadata (setup.py): started\n",
      "  Preparing metadata (setup.py): finished with status 'done'\n",
      "Requirement already satisfied: tqdm in d:\\programming\\projects\\blade\\venv\\lib\\site-packages (from airfoil==2024.9.30.12.20.12) (4.66.5)\n",
      "Requirement already satisfied: colorama in d:\\programming\\projects\\blade\\venv\\lib\\site-packages (from airfoil==2024.9.30.12.20.12) (0.4.6)\n",
      "Requirement already satisfied: numpy in d:\\programming\\projects\\blade\\venv\\lib\\site-packages (from airfoil==2024.9.30.12.20.12) (2.1.1)\n",
      "Requirement already satisfied: scipy in d:\\programming\\projects\\blade\\venv\\lib\\site-packages (from airfoil==2024.9.30.12.20.12) (1.14.1)\n",
      "Requirement already satisfied: matplotlib in d:\\programming\\projects\\blade\\venv\\lib\\site-packages (from airfoil==2024.9.30.12.20.12) (3.9.2)\n",
      "Requirement already satisfied: pandas in d:\\programming\\projects\\blade\\venv\\lib\\site-packages (from airfoil==2024.9.30.12.20.12) (2.2.3)\n",
      "Requirement already satisfied: openpyxl in d:\\programming\\projects\\blade\\venv\\lib\\site-packages (from airfoil==2024.9.30.12.20.12) (3.1.5)\n",
      "Requirement already satisfied: contourpy>=1.0.1 in d:\\programming\\projects\\blade\\venv\\lib\\site-packages (from matplotlib->airfoil==2024.9.30.12.20.12) (1.3.0)\n",
      "Requirement already satisfied: cycler>=0.10 in d:\\programming\\projects\\blade\\venv\\lib\\site-packages (from matplotlib->airfoil==2024.9.30.12.20.12) (0.12.1)\n",
      "Requirement already satisfied: fonttools>=4.22.0 in d:\\programming\\projects\\blade\\venv\\lib\\site-packages (from matplotlib->airfoil==2024.9.30.12.20.12) (4.54.1)\n",
      "Requirement already satisfied: kiwisolver>=1.3.1 in d:\\programming\\projects\\blade\\venv\\lib\\site-packages (from matplotlib->airfoil==2024.9.30.12.20.12) (1.4.7)\n",
      "Requirement already satisfied: packaging>=20.0 in d:\\programming\\projects\\blade\\venv\\lib\\site-packages (from matplotlib->airfoil==2024.9.30.12.20.12) (24.1)\n",
      "Requirement already satisfied: pillow>=8 in d:\\programming\\projects\\blade\\venv\\lib\\site-packages (from matplotlib->airfoil==2024.9.30.12.20.12) (10.4.0)\n",
      "Requirement already satisfied: pyparsing>=2.3.1 in d:\\programming\\projects\\blade\\venv\\lib\\site-packages (from matplotlib->airfoil==2024.9.30.12.20.12) (3.1.4)\n",
      "Requirement already satisfied: python-dateutil>=2.7 in d:\\programming\\projects\\blade\\venv\\lib\\site-packages (from matplotlib->airfoil==2024.9.30.12.20.12) (2.9.0.post0)\n",
      "Requirement already satisfied: et-xmlfile in d:\\programming\\projects\\blade\\venv\\lib\\site-packages (from openpyxl->airfoil==2024.9.30.12.20.12) (1.1.0)\n",
      "Requirement already satisfied: pytz>=2020.1 in d:\\programming\\projects\\blade\\venv\\lib\\site-packages (from pandas->airfoil==2024.9.30.12.20.12) (2024.2)\n",
      "Requirement already satisfied: tzdata>=2022.7 in d:\\programming\\projects\\blade\\venv\\lib\\site-packages (from pandas->airfoil==2024.9.30.12.20.12) (2024.2)\n",
      "Requirement already satisfied: six>=1.5 in d:\\programming\\projects\\blade\\venv\\lib\\site-packages (from python-dateutil>=2.7->matplotlib->airfoil==2024.9.30.12.20.12) (1.16.0)\n",
      "Building wheels for collected packages: airfoil, decorators, mathematics\n",
      "  Building wheel for airfoil (setup.py): started\n",
      "  Building wheel for airfoil (setup.py): finished with status 'done'\n",
      "  Created wheel for airfoil: filename=airfoil-2024.9.30.12.20.17-py3-none-any.whl size=16671 sha256=7daf6b2234e2c6c937dca61e84f4a525bf10f51dc8783df1089a949613618623\n",
      "  Stored in directory: C:\\Users\\parkh\\AppData\\Local\\Temp\\pip-ephem-wheel-cache-9qfwb2ax\\wheels\\ce\\c2\\d0\\dc2e9effc2e474857725bf929d2ddb9c345c26b2f3d3342d09\n",
      "  Building wheel for decorators (setup.py): started\n",
      "  Building wheel for decorators (setup.py): finished with status 'done'\n",
      "  Created wheel for decorators: filename=decorators-2024.9.30.12.20.18-py3-none-any.whl size=5704 sha256=819bd4f8326c50fd6b0cbbd2200f93e0a485b5a8ddf6debc93c3ee146f465647\n",
      "  Stored in directory: C:\\Users\\parkh\\AppData\\Local\\Temp\\pip-ephem-wheel-cache-9qfwb2ax\\wheels\\fb\\9c\\87\\8cbc63e22e895ed830ca8724f6fcbf1ffd470d4ea785d75945\n",
      "  Building wheel for mathematics (setup.py): started\n",
      "  Building wheel for mathematics (setup.py): finished with status 'done'\n",
      "  Created wheel for mathematics: filename=mathematics-2024.9.30.12.20.19-py3-none-any.whl size=4806 sha256=29c66ff7ef0763b5c4fcc779be97f4fa74ef24222d086db1c7e2fa3e9f4c3b18\n",
      "  Stored in directory: C:\\Users\\parkh\\AppData\\Local\\Temp\\pip-ephem-wheel-cache-9qfwb2ax\\wheels\\e4\\93\\c6\\35ee3972247fdd601af787cd3e1bbd13ab438971693e643362\n",
      "Successfully built airfoil decorators mathematics\n",
      "Installing collected packages: decorators, mathematics, airfoil\n",
      "  Attempting uninstall: decorators\n",
      "    Found existing installation: decorators 2024.9.30.12.19.50\n",
      "    Uninstalling decorators-2024.9.30.12.19.50:\n",
      "      Successfully uninstalled decorators-2024.9.30.12.19.50\n",
      "  Attempting uninstall: mathematics\n",
      "    Found existing installation: mathematics 2024.9.30.12.19.51\n",
      "    Uninstalling mathematics-2024.9.30.12.19.51:\n",
      "      Successfully uninstalled mathematics-2024.9.30.12.19.51\n",
      "  Attempting uninstall: airfoil\n",
      "    Found existing installation: airfoil 2024.9.30.12.19.49\n",
      "    Uninstalling airfoil-2024.9.30.12.19.49:\n",
      "      Successfully uninstalled airfoil-2024.9.30.12.19.49\n",
      "Successfully installed airfoil-2024.9.30.12.19.49 decorators-2024.9.30.12.19.50 mathematics-2024.9.30.12.19.51\n"
     ]
    },
    {
     "name": "stderr",
     "output_type": "stream",
     "text": [
      "  Running command git clone --filter=blob:none --quiet https://github.com/ParkhomenkoDV/airfoil.git 'C:\\Users\\parkh\\AppData\\Local\\Temp\\pip-req-build-_m9aejfw'\n",
      "  Running command git clone --filter=blob:none --quiet https://github.com/ParkhomenkoDV/decorators.git 'C:\\Users\\parkh\\AppData\\Local\\Temp\\pip-install-1yvkj2z1\\decorators_867b0f258c944ce881d8cbec41c6d39b'\n",
      "  Running command git clone --filter=blob:none --quiet https://github.com/ParkhomenkoDV/mathematics.git 'C:\\Users\\parkh\\AppData\\Local\\Temp\\pip-install-1yvkj2z1\\mathematics_6141c743d15c4a9da96bedad425d4415'\n"
     ]
    },
    {
     "name": "stdout",
     "output_type": "stream",
     "text": [
      "Collecting git+https://github.com/ParkhomenkoDV/blade.git\n",
      "  Cloning https://github.com/ParkhomenkoDV/blade.git to c:\\users\\parkh\\appdata\\local\\temp\\pip-req-build-sass2tlq\n",
      "  Resolved https://github.com/ParkhomenkoDV/blade.git to commit 442d014db0dae9495476f94e6195c66facaf2312\n",
      "  Preparing metadata (setup.py): started\n",
      "  Preparing metadata (setup.py): finished with status 'done'\n",
      "Collecting decorators@ git+https://github.com/ParkhomenkoDV/decorators.git@master (from blade==2024.9.30.12.20.23)\n",
      "  Cloning https://github.com/ParkhomenkoDV/decorators.git (to revision master) to c:\\users\\parkh\\appdata\\local\\temp\\pip-install-tsct_7sy\\decorators_81d2c859c0064a0f82b822bca9bcd353\n",
      "  Resolved https://github.com/ParkhomenkoDV/decorators.git to commit defaf0bd8ca5d03f3e7bcb574426029427ae1e12\n",
      "  Preparing metadata (setup.py): started\n",
      "  Preparing metadata (setup.py): finished with status 'done'\n",
      "Collecting tools@ git+https://github.com/ParkhomenkoDV/tools.git@master (from blade==2024.9.30.12.20.23)\n",
      "  Cloning https://github.com/ParkhomenkoDV/tools.git (to revision master) to c:\\users\\parkh\\appdata\\local\\temp\\pip-install-tsct_7sy\\tools_052220051195465cabc09aa51c8ea018\n",
      "  Resolved https://github.com/ParkhomenkoDV/tools.git to commit 3e6e358780bff1b13e58785701f47a2a849072e0\n",
      "  Preparing metadata (setup.py): started\n",
      "  Preparing metadata (setup.py): finished with status 'done'\n",
      "Collecting mathematics@ git+https://github.com/ParkhomenkoDV/mathematics.git@master (from blade==2024.9.30.12.20.23)\n",
      "  Cloning https://github.com/ParkhomenkoDV/mathematics.git (to revision master) to c:\\users\\parkh\\appdata\\local\\temp\\pip-install-tsct_7sy\\mathematics_19a7d1278aed4b03afe2b529e67e2e4d\n",
      "  Resolved https://github.com/ParkhomenkoDV/mathematics.git to commit 8e825e6f68ea7f82af71e3c67bed24907c9fdc5a\n",
      "  Preparing metadata (setup.py): started\n",
      "  Preparing metadata (setup.py): finished with status 'done'\n",
      "Collecting airfoil@ git+https://github.com/ParkhomenkoDV/airfoil.git@master (from blade==2024.9.30.12.20.23)\n",
      "  Cloning https://github.com/ParkhomenkoDV/airfoil.git (to revision master) to c:\\users\\parkh\\appdata\\local\\temp\\pip-install-tsct_7sy\\airfoil_26be127aa63f4470b9167d9911cd59ff\n",
      "  Resolved https://github.com/ParkhomenkoDV/airfoil.git to commit 34e5ed198e134dfeeed83423b86d36f23025998d\n",
      "  Preparing metadata (setup.py): started\n",
      "  Preparing metadata (setup.py): finished with status 'done'\n",
      "Collecting material@ git+https://github.com/ParkhomenkoDV/material.git@master (from blade==2024.9.30.12.20.23)\n",
      "  Cloning https://github.com/ParkhomenkoDV/material.git (to revision master) to c:\\users\\parkh\\appdata\\local\\temp\\pip-install-tsct_7sy\\material_7e36d1cb66cf40d88d04eef62cc17166\n",
      "  Resolved https://github.com/ParkhomenkoDV/material.git to commit 413205e694c594d420886afa9cc26c7680c385ee\n",
      "  Preparing metadata (setup.py): started\n",
      "  Preparing metadata (setup.py): finished with status 'done'\n",
      "Requirement already satisfied: tqdm in d:\\programming\\projects\\blade\\venv\\lib\\site-packages (from blade==2024.9.30.12.20.23) (4.66.5)\n",
      "Requirement already satisfied: colorama in d:\\programming\\projects\\blade\\venv\\lib\\site-packages (from blade==2024.9.30.12.20.23) (0.4.6)\n",
      "Requirement already satisfied: numpy in d:\\programming\\projects\\blade\\venv\\lib\\site-packages (from blade==2024.9.30.12.20.23) (2.1.1)\n",
      "Requirement already satisfied: scipy in d:\\programming\\projects\\blade\\venv\\lib\\site-packages (from blade==2024.9.30.12.20.23) (1.14.1)\n",
      "Requirement already satisfied: matplotlib in d:\\programming\\projects\\blade\\venv\\lib\\site-packages (from blade==2024.9.30.12.20.23) (3.9.2)\n",
      "Requirement already satisfied: pandas in d:\\programming\\projects\\blade\\venv\\lib\\site-packages (from airfoil@ git+https://github.com/ParkhomenkoDV/airfoil.git@master->blade==2024.9.30.12.20.23) (2.2.3)\n",
      "Requirement already satisfied: openpyxl in d:\\programming\\projects\\blade\\venv\\lib\\site-packages (from airfoil@ git+https://github.com/ParkhomenkoDV/airfoil.git@master->blade==2024.9.30.12.20.23) (3.1.5)\n",
      "Requirement already satisfied: contourpy>=1.0.1 in d:\\programming\\projects\\blade\\venv\\lib\\site-packages (from matplotlib->blade==2024.9.30.12.20.23) (1.3.0)\n",
      "Requirement already satisfied: cycler>=0.10 in d:\\programming\\projects\\blade\\venv\\lib\\site-packages (from matplotlib->blade==2024.9.30.12.20.23) (0.12.1)\n",
      "Requirement already satisfied: fonttools>=4.22.0 in d:\\programming\\projects\\blade\\venv\\lib\\site-packages (from matplotlib->blade==2024.9.30.12.20.23) (4.54.1)\n",
      "Requirement already satisfied: kiwisolver>=1.3.1 in d:\\programming\\projects\\blade\\venv\\lib\\site-packages (from matplotlib->blade==2024.9.30.12.20.23) (1.4.7)\n",
      "Requirement already satisfied: packaging>=20.0 in d:\\programming\\projects\\blade\\venv\\lib\\site-packages (from matplotlib->blade==2024.9.30.12.20.23) (24.1)\n",
      "Requirement already satisfied: pillow>=8 in d:\\programming\\projects\\blade\\venv\\lib\\site-packages (from matplotlib->blade==2024.9.30.12.20.23) (10.4.0)\n",
      "Requirement already satisfied: pyparsing>=2.3.1 in d:\\programming\\projects\\blade\\venv\\lib\\site-packages (from matplotlib->blade==2024.9.30.12.20.23) (3.1.4)\n",
      "Requirement already satisfied: python-dateutil>=2.7 in d:\\programming\\projects\\blade\\venv\\lib\\site-packages (from matplotlib->blade==2024.9.30.12.20.23) (2.9.0.post0)\n",
      "Requirement already satisfied: six>=1.5 in d:\\programming\\projects\\blade\\venv\\lib\\site-packages (from python-dateutil>=2.7->matplotlib->blade==2024.9.30.12.20.23) (1.16.0)\n",
      "Requirement already satisfied: et-xmlfile in d:\\programming\\projects\\blade\\venv\\lib\\site-packages (from openpyxl->airfoil@ git+https://github.com/ParkhomenkoDV/airfoil.git@master->blade==2024.9.30.12.20.23) (1.1.0)\n",
      "Requirement already satisfied: pytz>=2020.1 in d:\\programming\\projects\\blade\\venv\\lib\\site-packages (from pandas->airfoil@ git+https://github.com/ParkhomenkoDV/airfoil.git@master->blade==2024.9.30.12.20.23) (2024.2)\n",
      "Requirement already satisfied: tzdata>=2022.7 in d:\\programming\\projects\\blade\\venv\\lib\\site-packages (from pandas->airfoil@ git+https://github.com/ParkhomenkoDV/airfoil.git@master->blade==2024.9.30.12.20.23) (2024.2)\n",
      "Building wheels for collected packages: blade, airfoil, decorators, material, mathematics, tools\n",
      "  Building wheel for blade (setup.py): started\n",
      "  Building wheel for blade (setup.py): finished with status 'done'\n",
      "  Created wheel for blade: filename=blade-2024.9.30.12.20.37-py3-none-any.whl size=4602 sha256=2e46dff4e91f31ce0ab3a29d17c64d92a1c18c202e36bcb167ae602d429e39d3\n",
      "  Stored in directory: C:\\Users\\parkh\\AppData\\Local\\Temp\\pip-ephem-wheel-cache-4v2gom2o\\wheels\\ce\\01\\b5\\02d1452a19641a44b26521175f891744d47f11877a1315c219\n",
      "  Building wheel for airfoil (setup.py): started\n",
      "  Building wheel for airfoil (setup.py): finished with status 'done'\n",
      "  Created wheel for airfoil: filename=airfoil-2024.9.30.12.20.38-py3-none-any.whl size=16667 sha256=24282fa61d0981543e815cae7b615b62b4ffb2816b9d1dcea64ba84fba8aef8b\n",
      "  Stored in directory: C:\\Users\\parkh\\AppData\\Local\\Temp\\pip-ephem-wheel-cache-4v2gom2o\\wheels\\21\\5c\\ae\\b403ba71c4ee9fb64b1205aca7f430985084d772a3e7221695\n",
      "  Building wheel for decorators (setup.py): started\n",
      "  Building wheel for decorators (setup.py): finished with status 'done'\n",
      "  Created wheel for decorators: filename=decorators-2024.9.30.12.20.39-py3-none-any.whl size=5703 sha256=72339080493009ffbe4ef0a26eece90f07c161d6200f21ec975914b8f2a17123\n",
      "  Stored in directory: C:\\Users\\parkh\\AppData\\Local\\Temp\\pip-ephem-wheel-cache-4v2gom2o\\wheels\\fb\\9c\\87\\8cbc63e22e895ed830ca8724f6fcbf1ffd470d4ea785d75945\n",
      "  Building wheel for material (setup.py): started\n",
      "  Building wheel for material (setup.py): finished with status 'done'\n",
      "  Created wheel for material: filename=material-2024.9.30.12.20.39-py3-none-any.whl size=30172 sha256=3463624b38edb384de4b726f75c30fd1b771dcbe30ef6a6c1dd69222a6639586\n",
      "  Stored in directory: C:\\Users\\parkh\\AppData\\Local\\Temp\\pip-ephem-wheel-cache-4v2gom2o\\wheels\\63\\dd\\5b\\bfeefe3dfcaf437490424cd55db6db73eea82c4704b70552de\n",
      "  Building wheel for mathematics (setup.py): started\n",
      "  Building wheel for mathematics (setup.py): finished with status 'done'\n",
      "  Created wheel for mathematics: filename=mathematics-2024.9.30.12.20.40-py3-none-any.whl size=4805 sha256=d616e65e2e17e4d00f718402b0b7907b9f0d4ed4cb853afa91ba0d6643ff2053\n",
      "  Stored in directory: C:\\Users\\parkh\\AppData\\Local\\Temp\\pip-ephem-wheel-cache-4v2gom2o\\wheels\\e4\\93\\c6\\35ee3972247fdd601af787cd3e1bbd13ab438971693e643362\n",
      "  Building wheel for tools (setup.py): started\n",
      "  Building wheel for tools (setup.py): finished with status 'done'\n",
      "  Created wheel for tools: filename=tools-2024.9.30.12.20.41-py3-none-any.whl size=4446 sha256=04bb6ecf3020f5eef3dc2fcd48a1c969905794c9d72d7c1e651ba8dbbbd1a24d\n",
      "  Stored in directory: C:\\Users\\parkh\\AppData\\Local\\Temp\\pip-ephem-wheel-cache-4v2gom2o\\wheels\\cc\\9a\\c4\\91b46059500e5e70954b5837d77f40ef5f31771df0c7a67c59\n",
      "Successfully built blade airfoil decorators material mathematics tools\n",
      "Installing collected packages: decorators, mathematics, tools, material, airfoil, blade\n",
      "  Attempting uninstall: decorators\n",
      "    Found existing installation: decorators 2024.9.30.12.20.18\n",
      "    Uninstalling decorators-2024.9.30.12.20.18:\n",
      "      Successfully uninstalled decorators-2024.9.30.12.20.18\n",
      "  Attempting uninstall: mathematics\n",
      "    Found existing installation: mathematics 2024.9.30.12.20.19\n",
      "    Uninstalling mathematics-2024.9.30.12.20.19:\n",
      "      Successfully uninstalled mathematics-2024.9.30.12.20.19\n",
      "  Attempting uninstall: tools\n",
      "    Found existing installation: tools 2024.9.30.12.19.51\n",
      "    Uninstalling tools-2024.9.30.12.19.51:\n",
      "      Successfully uninstalled tools-2024.9.30.12.19.51\n",
      "  Attempting uninstall: material\n",
      "    Found existing installation: material 2024.9.30.12.19.50\n",
      "    Uninstalling material-2024.9.30.12.19.50:\n",
      "      Successfully uninstalled material-2024.9.30.12.19.50\n",
      "  Attempting uninstall: airfoil\n",
      "    Found existing installation: airfoil 2024.9.30.12.20.17\n",
      "    Uninstalling airfoil-2024.9.30.12.20.17:\n",
      "      Successfully uninstalled airfoil-2024.9.30.12.20.17\n",
      "  Attempting uninstall: blade\n",
      "    Found existing installation: blade 2024.9.30.12.19.48\n",
      "    Uninstalling blade-2024.9.30.12.19.48:\n",
      "      Successfully uninstalled blade-2024.9.30.12.19.48\n",
      "Successfully installed airfoil-2024.9.30.12.20.17 blade-2024.9.30.12.19.48 decorators-2024.9.30.12.20.18 material-2024.9.30.12.19.50 mathematics-2024.9.30.12.20.19 tools-2024.9.30.12.19.51\n"
     ]
    },
    {
     "name": "stderr",
     "output_type": "stream",
     "text": [
      "  Running command git clone --filter=blob:none --quiet https://github.com/ParkhomenkoDV/blade.git 'C:\\Users\\parkh\\AppData\\Local\\Temp\\pip-req-build-sass2tlq'\n",
      "  Running command git clone --filter=blob:none --quiet https://github.com/ParkhomenkoDV/decorators.git 'C:\\Users\\parkh\\AppData\\Local\\Temp\\pip-install-tsct_7sy\\decorators_81d2c859c0064a0f82b822bca9bcd353'\n",
      "  Running command git clone --filter=blob:none --quiet https://github.com/ParkhomenkoDV/tools.git 'C:\\Users\\parkh\\AppData\\Local\\Temp\\pip-install-tsct_7sy\\tools_052220051195465cabc09aa51c8ea018'\n",
      "  Running command git clone --filter=blob:none --quiet https://github.com/ParkhomenkoDV/mathematics.git 'C:\\Users\\parkh\\AppData\\Local\\Temp\\pip-install-tsct_7sy\\mathematics_19a7d1278aed4b03afe2b529e67e2e4d'\n",
      "  Running command git clone --filter=blob:none --quiet https://github.com/ParkhomenkoDV/airfoil.git 'C:\\Users\\parkh\\AppData\\Local\\Temp\\pip-install-tsct_7sy\\airfoil_26be127aa63f4470b9167d9911cd59ff'\n",
      "  Running command git clone --filter=blob:none --quiet https://github.com/ParkhomenkoDV/material.git 'C:\\Users\\parkh\\AppData\\Local\\Temp\\pip-install-tsct_7sy\\material_7e36d1cb66cf40d88d04eef62cc17166'\n"
     ]
    }
   ],
   "source": [
    "!pip install --upgrade git+https://github.com/ParkhomenkoDV/material.git\n",
    "!pip install --upgrade git+https://github.com/ParkhomenkoDV/airfoil.git\n",
    "!pip install --upgrade git+https://github.com/ParkhomenkoDV/blade.git"
   ]
  },
  {
   "cell_type": "code",
   "execution_count": 3,
   "metadata": {},
   "outputs": [],
   "source": [
    "from material import Material\n",
    "from airfoil import Airfoil\n",
    "from blade import Blade"
   ]
  },
  {
   "cell_type": "markdown",
   "metadata": {},
   "source": [
    "# Create material"
   ]
  },
  {
   "cell_type": "code",
   "execution_count": null,
   "metadata": {},
   "outputs": [],
   "source": [
    "material = Material()"
   ]
  },
  {
   "cell_type": "code",
   "execution_count": null,
   "metadata": {},
   "outputs": [],
   "source": []
  },
  {
   "cell_type": "code",
   "execution_count": 4,
   "metadata": {},
   "outputs": [
    {
     "ename": "TypeError",
     "evalue": "Blade.__init__() missing 2 required positional arguments: 'material' and 'sections'",
     "output_type": "error",
     "traceback": [
      "\u001b[1;31m---------------------------------------------------------------------------\u001b[0m",
      "\u001b[1;31mTypeError\u001b[0m                                 Traceback (most recent call last)",
      "Cell \u001b[1;32mIn[4], line 1\u001b[0m\n\u001b[1;32m----> 1\u001b[0m blade \u001b[38;5;241m=\u001b[39m \u001b[43mBlade\u001b[49m\u001b[43m(\u001b[49m\u001b[43m)\u001b[49m\n",
      "\u001b[1;31mTypeError\u001b[0m: Blade.__init__() missing 2 required positional arguments: 'material' and 'sections'"
     ]
    }
   ],
   "source": [
    "blade = Blade()"
   ]
  },
  {
   "cell_type": "code",
   "execution_count": null,
   "metadata": {},
   "outputs": [],
   "source": []
  }
 ],
 "metadata": {
  "kernelspec": {
   "display_name": "venv",
   "language": "python",
   "name": "python3"
  },
  "language_info": {
   "codemirror_mode": {
    "name": "ipython",
    "version": 3
   },
   "file_extension": ".py",
   "mimetype": "text/x-python",
   "name": "python",
   "nbconvert_exporter": "python",
   "pygments_lexer": "ipython3",
   "version": "3.11.9"
  }
 },
 "nbformat": 4,
 "nbformat_minor": 2
}
